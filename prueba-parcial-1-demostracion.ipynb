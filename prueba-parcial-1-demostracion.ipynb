{
 "cells": [
  {
   "cell_type": "code",
   "id": "initial_id",
   "metadata": {
    "collapsed": true,
    "ExecuteTime": {
     "end_time": "2025-05-27T00:59:10.437149Z",
     "start_time": "2025-05-27T00:59:10.433163Z"
    }
   },
   "source": "import numpy as np",
   "outputs": [],
   "execution_count": 3
  },
  {
   "metadata": {
    "ExecuteTime": {
     "end_time": "2025-05-27T00:59:10.456637Z",
     "start_time": "2025-05-27T00:59:10.450944Z"
    }
   },
   "cell_type": "code",
   "source": [
    "valores_ang =np.linspace(0, 2 * np.pi, 100)\n",
    "seno_valores = np.sin(valores_ang)\n",
    "\n",
    "print(f\"Valores del angulo: {valores_ang[:5]}\")\n",
    "print(f\"Valores del seno: {seno_valores[:5]}\")"
   ],
   "id": "e1d4e65890df015d",
   "outputs": [
    {
     "name": "stdout",
     "output_type": "stream",
     "text": [
      "Valores del angulo: [0.         0.06346652 0.12693304 0.19039955 0.25386607]\n",
      "Valores del seno: [0.         0.06342392 0.12659245 0.18925124 0.25114799]\n"
     ]
    }
   ],
   "execution_count": 4
  }
 ],
 "metadata": {
  "kernelspec": {
   "display_name": "Python 3",
   "language": "python",
   "name": "python3"
  },
  "language_info": {
   "codemirror_mode": {
    "name": "ipython",
    "version": 2
   },
   "file_extension": ".py",
   "mimetype": "text/x-python",
   "name": "python",
   "nbconvert_exporter": "python",
   "pygments_lexer": "ipython2",
   "version": "2.7.6"
  }
 },
 "nbformat": 4,
 "nbformat_minor": 5
}
